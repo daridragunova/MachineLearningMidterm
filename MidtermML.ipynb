{
  "cells": [
    {
      "cell_type": "markdown",
      "metadata": {
        "id": "lxtNes4y72qU"
      },
      "source": [
        "# Def Section"
      ]
    },
    {
      "cell_type": "code",
      "execution_count": 42,
      "metadata": {
        "id": "qZfDYyz_8Chd",
        "colab": {
          "base_uri": "https://localhost:8080/"
        },
        "outputId": "e50deb7a-553d-4c70-efc6-7746d4d5b9f1"
      },
      "outputs": [
        {
          "output_type": "stream",
          "name": "stderr",
          "text": [
            "[nltk_data] Downloading package omw-1.4 to /root/nltk_data...\n",
            "[nltk_data]   Package omw-1.4 is already up-to-date!\n",
            "[nltk_data] Downloading package stopwords to /root/nltk_data...\n",
            "[nltk_data]   Package stopwords is already up-to-date!\n",
            "[nltk_data] Downloading package punkt to /root/nltk_data...\n",
            "[nltk_data]   Package punkt is already up-to-date!\n",
            "[nltk_data] Downloading package words to /root/nltk_data...\n",
            "[nltk_data]   Package words is already up-to-date!\n",
            "[nltk_data] Downloading package wordnet to /root/nltk_data...\n",
            "[nltk_data]   Package wordnet is already up-to-date!\n"
          ]
        }
      ],
      "source": [
        "from pandas.core.indexes.base import trim_front\n",
        "#import pandas as pd\n",
        "\n",
        "\n",
        "\"\"\"# Cleaning broken instances #\"\"\"\n",
        "def original_data_cleaning(listofInstance,ctag1,ctag2,wtag):\n",
        "    \n",
        "    indx = 0\n",
        "    for i in listofInstance[ctag1]:\n",
        "        if  wtag in i:\n",
        "            listofInstance = listofInstance.drop(listofInstance.index[indx])\n",
        "        else:\n",
        "            indx = indx + 1\n",
        "        \n",
        "    listofInstance = listofInstance.loc[(listofInstance[ctag2].isnull() == False)]\n",
        "    listofInstance = listofInstance.reset_index(drop=True)\n",
        "    \n",
        "    return listofInstance\n",
        "\n",
        "    \n",
        "\"\"\"# Cleaning broken instances Test#\"\"\"\n",
        "def original_data_cleaning_test(listofInstance,ctag1,ctag2,wtag):\n",
        "    \n",
        "    indx = 0\n",
        "\n",
        "    for i in listofInstance[ctag1]:\n",
        "      if wtag in i:\n",
        "          listofInstance = listofInstance.drop(listofInstance.index[indx])\n",
        "      else:\n",
        "          indx = indx + 1\n",
        "    listofInstance = listofInstance.loc[(listofInstance[ctag2].isnull() == False)]\n",
        "    listofInstance = listofInstance.reset_index(drop=True)\n",
        "\n",
        "    return listofInstance\n",
        "\n",
        "\n",
        "\"\"\"# Cleaning sentences #\"\"\"\n",
        "\n",
        "#Pre-process sentences\n",
        "import nltk\n",
        "import string\n",
        "from nltk.stem import WordNetLemmatizer\n",
        "nltk.download('omw-1.4')\n",
        "nltk.download('stopwords')\n",
        "nltk.download('punkt')\n",
        "nltk.download('words')\n",
        "nltk.download('wordnet')\n",
        "\n",
        "stopwords = nltk.corpus.stopwords.words('english')\n",
        "words = set(nltk.corpus.words.words())\n",
        "lemmatizer = WordNetLemmatizer()\n",
        "\n",
        "def Preprocess_listofSentence(listofSentence):\n",
        " preprocess_list = []\n",
        " for sentence in listofSentence :\n",
        "  sentence_w_punct = \"\".join([i.lower() for i in sentence if i not in string.punctuation])\n",
        "\n",
        "  #lowercase\n",
        "  tokenize_sentence = nltk.tokenize.word_tokenize(sentence_w_punct.lower())\n",
        "  #tokenize\n",
        "  tokenize_sentence = nltk.tokenize.word_tokenize(sentence_w_punct)\n",
        "  # remove stopwords\n",
        "  words_w_stopwords = [i for i in tokenize_sentence if i not in stopwords]      \n",
        "  # lemmatize\n",
        "  words_lemmatize = (lemmatizer.lemmatize(w) for w in words_w_stopwords)         \n",
        "  #put the words together in a list\n",
        "  sentence_clean = ' '.join(w for w in words_lemmatize if w.lower() in words or w.isalpha())\n",
        "\n",
        "  preprocess_list.append(sentence_clean)\n",
        "\n",
        " return preprocess_list\n",
        "\n",
        "\n",
        "\"\"\"# Feature 1 extraction - \"word_count_dif\", the difference between number of words in sentence1 vs. sentence2 #\"\"\"\n",
        "\n",
        "def FeatureExtraction_WordCount(listofSentence1,listofSentence2):\n",
        "\n",
        "    words_count_dif = []\n",
        "    for i in range(len(listofSentence1)):\n",
        "        words_count_dif.append(abs(len(listofSentence1[i])-len(listofSentence2[i]))/(len(listofSentence1[i])+len(listofSentence2[i])))\n",
        " \n",
        "    return words_count_dif\n",
        "\n",
        "\n",
        "\"\"\"# Feature 2 extraction - \"word_overlap\", number of the same words in sentence1 and sentence2 #\"\"\"\n",
        "def FeatureExtraction_WordOverlap(listofSentence1,listofSentence2):\n",
        "\n",
        "    same_words = []\n",
        "    for i in range(len(listofSentence1)):\n",
        "        same_words.append(len(list(set(listofSentence1[i])&set(listofSentence2[i])))/(len(listofSentence1[i])+len(listofSentence2[i]))) \n",
        "    \n",
        "    return same_words\n",
        "\n",
        "\n",
        "\"\"\"# Feature 3 extraction - \"word_union\", number of unique words in sentence1 and sentence2 #\"\"\"\n",
        "def FeatureExtraction_WordUnion(listofSentence1,listofSentence2):\n",
        "\n",
        "    word_union = [] \n",
        "    for i in range(len(listofSentence1)):\n",
        "        word_union.append(len(list(set(listofSentence1[i]) | set(listofSentence2[i])))/(len(listofSentence1[i])+len(listofSentence2[i])))\n",
        "\n",
        "    return word_union\n",
        "\n",
        "\n",
        "\"\"\"# Feature 4 extraction - \"three_gram_overlap\", number of same sequence of three words in sentence1 and sentence2 #\"\"\"\n",
        "#import re\n",
        "from nltk.util import ngrams\n",
        "\n",
        "def FeatureExtraction_3gramOverlap(listofSentence1,listofSentence2):\n",
        "    \n",
        "    tokenize_sentence1 = []\n",
        "    tokenize_sentence2 = []\n",
        "    for i in range(len(listofSentence1)):\n",
        "      tokenize_sentence1.append(nltk.tokenize.word_tokenize(listofSentence1[i]))\n",
        "      tokenize_sentence2.append(nltk.tokenize.word_tokenize(listofSentence2[i]))\n",
        "    \n",
        "    three_gram_sen1 = []\n",
        "    three_gram_sen2 = []\n",
        "    for i in range(len(listofSentence1)):\n",
        "        three_gram_sen1.append(list(ngrams(tokenize_sentence1[i], 3)))\n",
        "        three_gram_sen2.append(list(ngrams(tokenize_sentence2[i], 3)))\n",
        "\n",
        "    same_ngrams = []\n",
        "    for i in range(len(listofSentence1)):\n",
        "        same_ngrams.append(len(list(set(three_gram_sen1[i]) & set(three_gram_sen2[i]))) /(len(set(three_gram_sen1[i]))+len(set(three_gram_sen2[i]))))\n",
        "    \n",
        "    return same_ngrams\n",
        "\n",
        "\n",
        "\"\"\"# Feature 5 extraction - \"three_gram_union\" #\"\"\"\n",
        "def FeatureExtraction_3gramUnion(listofSentence1,listofSentence2):\n",
        "\n",
        "    tokenize_sentence1 = []\n",
        "    tokenize_sentence2 = []\n",
        "    for i in range(len(listofSentence1)):\n",
        "      tokenize_sentence1.append(nltk.tokenize.word_tokenize(listofSentence1[i]))\n",
        "      tokenize_sentence2.append(nltk.tokenize.word_tokenize(listofSentence2[i]))\n",
        "\n",
        "    three_gram_sen1 = []\n",
        "    three_gram_sen2 = []\n",
        "    for i in range(len(listofSentence1)):\n",
        "        three_gram_sen1.append(list(ngrams(listofSentence1[i], 3)))\n",
        "        three_gram_sen2.append(list(ngrams(listofSentence2[i], 3)))\n",
        "\n",
        "    union_ngrams = []\n",
        "    for i in range(len(listofSentence1)):\n",
        "        union_ngrams.append(len(list(set(three_gram_sen1[i]) | set(three_gram_sen2[i])))/(len(set(three_gram_sen1[i]))+len(set(three_gram_sen2[i]))))\n",
        "\n",
        "    return union_ngrams\n",
        "\n",
        "\n",
        "\"\"\"# Feature 6 extraction - \"two_gram_overlap\" #\"\"\"\n",
        "def FeatureExtraction_2gramOverlap(listofSentence1,listofSentence2):\n",
        "    tokenize_sentence1 = []\n",
        "    tokenize_sentence2 = []\n",
        "    for i in range(len(listofSentence1)):\n",
        "      tokenize_sentence1.append(nltk.tokenize.word_tokenize(listofSentence1[i]))\n",
        "      tokenize_sentence2.append(nltk.tokenize.word_tokenize(listofSentence2[i]))\n",
        "\n",
        "    two_gram_sen1 = []\n",
        "    two_gram_sen2 = []\n",
        "    for i in range(len(listofSentence1)):\n",
        "        two_gram_sen1.append(list(ngrams(listofSentence1[i], 2)))\n",
        "        two_gram_sen2.append(list(ngrams(listofSentence2[i], 2)))\n",
        "\n",
        "    same_ngrams = []\n",
        "    for i in range(len(listofSentence1)):\n",
        "        same_ngrams.append(len(list(set(two_gram_sen1[i]) & set(two_gram_sen2[i])))/(len(set(two_gram_sen1[i]))+len(set(two_gram_sen2[i]))))\n",
        "    \n",
        "    return same_ngrams\n",
        "\n",
        "\n",
        "\"\"\"# Feature 7 extraction - \"two_gram_union\" #\"\"\"\n",
        "def FeatureExtraction_2gramUnion(listofSentence1,listofSentence2):\n",
        "    tokenize_sentence1 = []\n",
        "    tokenize_sentence2 = []\n",
        "    for i in range(len(listofSentence1)):\n",
        "      tokenize_sentence1.append(nltk.tokenize.word_tokenize(listofSentence1[i]))\n",
        "      tokenize_sentence2.append(nltk.tokenize.word_tokenize(listofSentence2[i]))\n",
        "      \n",
        "    two_gram_sen1 = []\n",
        "    two_gram_sen2 = []\n",
        "    for i in range(len(listofSentence1)):\n",
        "        two_gram_sen1.append(list(ngrams(listofSentence1[i], 2)))\n",
        "        two_gram_sen2.append(list(ngrams(listofSentence2[i], 2)))\n",
        "\n",
        "    union_ngrams = []\n",
        "    for i in range(len(listofSentence1)):\n",
        "        union_ngrams.append(len(list(set(two_gram_sen1[i]) | set(two_gram_sen2[i])))/(len(set(two_gram_sen1[i]))+len(set(two_gram_sen2[i]))))\n",
        "\n",
        "    return union_ngrams\n",
        "\n",
        "\n",
        "\"\"\"# Feature 8 extraction - \"num_overlap\", number of the same numbers in sentence1 and sentence2 #\"\"\"\n",
        "import re\n",
        "def FeatureExtraction_NumOverlap(listofSentence1,listofSentence2):\n",
        "\n",
        "# step 1 - extract numbers including float and persentage\n",
        "# creating a patern for step 1 \n",
        "    numeric_const_pattern = '[-+]? (?: (?: \\d* \\. \\d+ ) | (?: \\d+ \\.? ) )(?: [Ee] [+-]? \\d+ ) ?' \n",
        "# applying filter to create a list of found numbers\n",
        "    num_filter_patern = re.compile(numeric_const_pattern, re.VERBOSE)\n",
        "\n",
        "# step 2 - count how many numbers are matching    \n",
        "    same_nums = []\n",
        "    for i in range(len(listofSentence1)):\n",
        "        total_num_temp = len(list(set(num_filter_patern.findall(listofSentence1[i])) | set(num_filter_patern.findall(listofSentence2[i]))))\n",
        "        if total_num_temp == 0:\n",
        "          same_nums.append(float(0))\n",
        "        else:\n",
        "          same_num_temp = len(list(set(num_filter_patern.findall(listofSentence1[i])) & set(num_filter_patern.findall(listofSentence2[i])))) \n",
        "          same_nums.append(float(same_num_temp/total_num_temp))\n",
        "#        same_nums.append(len(list(set(num_filter_patern.findall(listofSentence1[i])) & set(num_filter_patern.findall(listofSentence2[i])))))\n",
        "    \n",
        "    return same_nums\n",
        "\n",
        "\n",
        "\"\"\"# Feature 9 extraction - \"num_capitalized_letters\" #\"\"\" \n",
        "def FeatureExtraction_CapitalLetters(listofSentence1,listofSentence2):\n",
        "    import re\n",
        "    import nltk\n",
        "    nltk.download('stopwords')\n",
        "\n",
        "    stopwords = nltk.corpus.stopwords.words('english')\n",
        "    stopwords = [each_string.capitalize() for each_string in stopwords]\n",
        "\n",
        "    cap_words_sen1 = []\n",
        "    for i in range(len(listofSentence1)):\n",
        "      res1 = re.findall('([A-Z][a-z]+)', listofSentence1[i])\n",
        "      words_w_stopwords = [i for i in res1 if i not in stopwords] \n",
        "      cap_words_sen1.append(words_w_stopwords)\n",
        "    \n",
        "    cap_words_sen2 = []\n",
        "    for i in range(len(listofSentence2)):\n",
        "      res2 = re.findall('([A-Z][a-z]+)', listofSentence2[i])\n",
        "      words_w_stopwords = [i for i in res2 if i not in stopwords] \n",
        "      cap_words_sen2.append(words_w_stopwords)\n",
        "\n",
        "    num_capitalized_letters = []\n",
        "    for i in range(len(listofSentence1)):\n",
        "      total_num_temp = len(list(set(cap_words_sen1[i]) | set(cap_words_sen2[i])))\n",
        "      if total_num_temp == 0:\n",
        "        num_capitalized_letters.append(float(0))\n",
        "      else:\n",
        "        num_capitalized_letters.append(float(len(list(set(cap_words_sen1[i]) & set(cap_words_sen2[i])))/total_num_temp))\n",
        "\n",
        "    return num_capitalized_letters\n",
        "\n",
        "\"\"\"# Feature 10 extraction - \"cosine_sim\" #\"\"\" #NOT in USE YET\n",
        "def FeatureExtraction_CosineSim(listofSentence1,listofSentence2):\n",
        "    #turn sentences into vectors\n",
        "    from collections import Counter\n",
        "    import math\n",
        "    import re \n",
        "\n",
        "    WORD = re.compile(r\"\\w+\")\n",
        "\n",
        "    def text_to_vector(text):\n",
        "      words = WORD.findall(text)\n",
        "      return Counter(words)\n",
        "\n",
        "    cos_score = []\n",
        "    for i in range(len(listofSentence1)):\n",
        "      vector1 = text_to_vector(listofSentence1[i])\n",
        "      vector2 = text_to_vector(listofSentence2[i])\n",
        "\n",
        "      intersection = set(vector1.keys()) & set(vector2.keys())\n",
        "      numerator = sum([vector1[x] * vector2[x] for x in intersection])\n",
        "\n",
        "      sum1 = sum([vector1[x] ** 2 for x in list(vector1.keys())])\n",
        "      sum2 = sum([vector2[x] ** 2 for x in list(vector2.keys())])\n",
        "      denominator = math.sqrt(sum1) * math.sqrt(sum2)\n",
        "\n",
        "      if not denominator:\n",
        "          cosine = 0.0\n",
        "      else:\n",
        "          cosine = float(numerator) / denominator\n",
        "\n",
        "      cos_score.append(cosine)\n",
        "\n",
        "    return cos_score\n"
      ]
    },
    {
      "cell_type": "code",
      "execution_count": 42,
      "metadata": {
        "id": "BwEMzWgzlzcZ"
      },
      "outputs": [],
      "source": []
    },
    {
      "cell_type": "markdown",
      "metadata": {
        "id": "EViscUIeohKS"
      },
      "source": [
        "# File reading section"
      ]
    },
    {
      "cell_type": "code",
      "execution_count": 43,
      "metadata": {
        "colab": {
          "base_uri": "https://localhost:8080/"
        },
        "id": "I-h7WzsoCFkD",
        "outputId": "a7630620-4788-4a46-995b-e01224b45273"
      },
      "outputs": [
        {
          "output_type": "stream",
          "name": "stdout",
          "text": [
            "          id                                          sentence1  \\\n",
            "0  test_id_0   This blackout was largely preventable ,  said...   \n",
            "1  test_id_1  The Denver-based natural gas producer and mark...   \n",
            "2  test_id_2  The other 18 people inside the building - two ...   \n",
            "3  test_id_3  Billy Hodge , 11 , is engrossed with the Harry...   \n",
            "4  test_id_4  Families stuck on the highway remained in thei...   \n",
            "\n",
            "                                           sentence2 gold_label  \n",
            "0   This blackout was largely preventable ,  Ener...        NaN  \n",
            "1  The natural gas producer and marketer said the...        NaN  \n",
            "2  The other 18 people in the building , includin...        NaN  \n",
            "3  Indeed , the Harry Potter series stands in a c...        NaN  \n",
            "4  Families stuck on the highway were being urged...        NaN  \n"
          ]
        }
      ],
      "source": [
        "# Open files and read data\n",
        "import pandas as pd\n",
        "#from midtermlib import *\n",
        "\n",
        "LABELS = [\"id\", \"sentence1\", \"sentence2\", \"gold_label\"]\n",
        "train_data = pd.read_csv(\"train_with_label.txt\", delimiter='\\t', names= LABELS)\n",
        "dev_data = pd.read_csv(\"dev_with_label.txt\", delimiter='\\t', names= LABELS)\n",
        "test_data = pd.read_csv(\"test_without_label.txt\", delimiter='\\t', names= LABELS)\n",
        "#d_train = pd.read_csv(\"d_train.txt\", delimiter='\\t', names= LABELS)\n",
        "\n",
        "\n",
        "train_data = original_data_cleaning(train_data,\"sentence2\",\"gold_label\",\"train_id_\")\n",
        "dev_data = original_data_cleaning(dev_data,\"sentence2\",\"gold_label\",\"dev_id_\")\n",
        "test_data = original_data_cleaning_test(test_data,\"sentence1\",\"sentence2\",\"test_id_\")\n",
        "#d_train = original_data_cleaning(d_train,\"sentence2\",\"gold_label\",\"dev_id_\")\n",
        "\n",
        "print(test_data.head())\n"
      ]
    },
    {
      "cell_type": "markdown",
      "metadata": {
        "id": "bsNpvZxyTYaJ"
      },
      "source": [
        "# Pre-processing Section"
      ]
    },
    {
      "cell_type": "code",
      "execution_count": 44,
      "metadata": {
        "colab": {
          "base_uri": "https://localhost:8080/"
        },
        "id": "IyWdZBwr5v89",
        "outputId": "9be84114-fa84-48ab-e19d-d1a724693381"
      },
      "outputs": [
        {
          "output_type": "stream",
          "name": "stdout",
          "text": [
            " Pre-processing complete \n",
            "\n"
          ]
        }
      ],
      "source": [
        "#Pre-process sentences including tokenization\n",
        "# Cleaning sentences\n",
        "preprocess_sent1 = Preprocess_listofSentence(train_data['sentence1'])\n",
        "preprocess_sent2 = Preprocess_listofSentence(train_data['sentence2'])\n",
        "train_data['clean_sent1'] = preprocess_sent1\n",
        "train_data['clean_sent2'] = preprocess_sent2\n",
        "\n",
        "dev_preprocess_sent1 = Preprocess_listofSentence(dev_data['sentence1'])\n",
        "dev_preprocess_sent2 = Preprocess_listofSentence(dev_data['sentence2'])\n",
        "dev_data['clean_sent1'] = dev_preprocess_sent1\n",
        "dev_data['clean_sent2'] = dev_preprocess_sent2\n",
        "\n",
        "#d_preprocess_sent1 = Preprocess_listofSentence(d_train['sentence1'])\n",
        "#d_preprocess_sent2 = Preprocess_listofSentence(d_train['sentence2'])\n",
        "#d_train['clean_sent1'] = d_preprocess_sent1\n",
        "#d_train['clean_sent2'] = d_preprocess_sent2\n",
        "\n",
        "test_preprocess_sent1 = Preprocess_listofSentence(test_data['sentence1'])\n",
        "test_preprocess_sent2 = Preprocess_listofSentence(test_data['sentence2'])\n",
        "test_data['clean_sent1'] = test_preprocess_sent1\n",
        "test_data['clean_sent2'] = test_preprocess_sent2\n",
        "\n",
        "# Tokenize sentences \n",
        "train_data['tok_sentence1'] = train_data.apply(lambda row: nltk.word_tokenize(row['clean_sent1']), axis=1)\n",
        "train_data['tok_sentence2'] = train_data.apply(lambda row: nltk.word_tokenize(row['clean_sent2']), axis=1)\n",
        "\n",
        "dev_data['tok_sentence1'] = dev_data.apply(lambda row: nltk.word_tokenize(row['clean_sent1']), axis=1)\n",
        "dev_data['tok_sentence2'] = dev_data.apply(lambda row: nltk.word_tokenize(row['clean_sent2']), axis=1)\n",
        "\n",
        "#d_train['tok_sentence1'] = d_train.apply(lambda row: nltk.word_tokenize(row['clean_sent1']), axis=1)\n",
        "#d_train['tok_sentence2'] = d_train.apply(lambda row: nltk.word_tokenize(row['clean_sent2']), axis=1)\n",
        "\n",
        "test_data['tok_sentence1'] = test_data.apply(lambda row: nltk.word_tokenize(row['clean_sent1']), axis=1)\n",
        "test_data['tok_sentence2'] = test_data.apply(lambda row: nltk.word_tokenize(row['clean_sent2']), axis=1)\n",
        "\n",
        "print(' Pre-processing complete \\n')\n"
      ]
    },
    {
      "cell_type": "markdown",
      "metadata": {
        "id": "n3i6GJzew6Fm"
      },
      "source": [
        "# Features Extraction Section"
      ]
    },
    {
      "cell_type": "code",
      "execution_count": 45,
      "metadata": {
        "colab": {
          "base_uri": "https://localhost:8080/"
        },
        "id": "H0cf2YlduwvK",
        "outputId": "297df08d-bc41-431c-967f-5015196b90e6"
      },
      "outputs": [
        {
          "output_type": "stream",
          "name": "stdout",
          "text": [
            "\n",
            " Feature 1 - word_count_dif extracted\n"
          ]
        }
      ],
      "source": [
        "# Feature 1 extraction - \"word_count_dif\", the difference between number of words in sentence1 vs. sentence2\n",
        "\n",
        "train_data['word_count_dif'] = FeatureExtraction_WordCount(train_data['tok_sentence1'],train_data['tok_sentence2'])\n",
        "dev_data['word_count_dif'] = FeatureExtraction_WordCount(dev_data['tok_sentence1'],dev_data['tok_sentence2'])\n",
        "#d_train['word_count_dif'] = FeatureExtraction_WordCount(d_train['tok_sentence1'],d_train['tok_sentence2'])\n",
        "test_data['word_count_dif'] = FeatureExtraction_WordCount(test_data['tok_sentence1'],test_data['tok_sentence2'])\n",
        "print('\\n Feature 1 - word_count_dif extracted')"
      ]
    },
    {
      "cell_type": "code",
      "execution_count": 46,
      "metadata": {
        "colab": {
          "base_uri": "https://localhost:8080/"
        },
        "id": "RHmlDJWi1I7i",
        "outputId": "9743daca-0fb7-4eb4-87c6-d42e7fde26cb"
      },
      "outputs": [
        {
          "output_type": "stream",
          "name": "stdout",
          "text": [
            "\n",
            " Feature 2 - word_overlap extracted\n"
          ]
        }
      ],
      "source": [
        "# Feature 2 extraction - \"word_overlap\", number of the same words in sentence1 and sentence2\n",
        "\n",
        "train_data['word_overlap'] = FeatureExtraction_WordOverlap(train_data['tok_sentence1'],train_data['tok_sentence2'])\n",
        "dev_data['word_overlap'] = FeatureExtraction_WordOverlap(dev_data['tok_sentence1'],dev_data['tok_sentence2'])\n",
        "#d_train['word_overlap'] = FeatureExtraction_WordOverlap(d_train['tok_sentence1'],d_train['tok_sentence2'])\n",
        "test_data['word_overlap'] = FeatureExtraction_WordOverlap(test_data['tok_sentence1'],test_data['tok_sentence2'])\n",
        "print('\\n Feature 2 - word_overlap extracted')"
      ]
    },
    {
      "cell_type": "code",
      "execution_count": 47,
      "metadata": {
        "id": "bF4nxR71lMul",
        "colab": {
          "base_uri": "https://localhost:8080/"
        },
        "outputId": "daa64efb-a47c-4f18-b9a2-dd7b223b00ce"
      },
      "outputs": [
        {
          "output_type": "stream",
          "name": "stdout",
          "text": [
            "\n",
            " Feature 3 - word_union extracted\n"
          ]
        }
      ],
      "source": [
        "# Feature 3 extraction - \"word_union\", number of unique words in sentence1 and sentence2\n",
        "\n",
        "train_data['word_union'] = FeatureExtraction_WordUnion(train_data['tok_sentence1'],train_data['tok_sentence2'])\n",
        "dev_data['word_union'] = FeatureExtraction_WordUnion(dev_data['tok_sentence1'],dev_data['tok_sentence2'])\n",
        "#d_train['word_union'] = FeatureExtraction_WordUnion(d_train['tok_sentence1'],d_train['tok_sentence2'])\n",
        "test_data['word_union'] = FeatureExtraction_WordUnion(test_data['tok_sentence1'],test_data['tok_sentence2'])\n",
        "print('\\n Feature 3 - word_union extracted')"
      ]
    },
    {
      "cell_type": "code",
      "execution_count": 48,
      "metadata": {
        "id": "Vv2ejXQBu5DC",
        "colab": {
          "base_uri": "https://localhost:8080/"
        },
        "outputId": "c71500fe-b4c5-4251-8682-04d01f8fb22d"
      },
      "outputs": [
        {
          "output_type": "stream",
          "name": "stdout",
          "text": [
            "\n",
            " Feature 4 - 3gram_overlap extracted\n"
          ]
        }
      ],
      "source": [
        "# Feature 4 extraction - \"three_gram_overlap\", number of same sequence of three words in sentence1 and sentence2\n",
        "\n",
        "train_data['3gram_overlap'] = FeatureExtraction_3gramOverlap(train_data['sentence1'],train_data['sentence2'])\n",
        "dev_data['3gram_overlap'] = FeatureExtraction_3gramOverlap(dev_data['sentence1'],dev_data['sentence2'])\n",
        "#d_train['3gram_overlap'] = FeatureExtraction_3gramOverlap(d_train['sentence1'],d_train['sentence2'])\n",
        "test_data['3gram_overlap'] = FeatureExtraction_3gramOverlap(test_data['sentence1'],test_data['sentence2'])\n",
        "print('\\n Feature 4 - 3gram_overlap extracted')"
      ]
    },
    {
      "cell_type": "code",
      "execution_count": 49,
      "metadata": {
        "id": "50fHAjoYcx5F",
        "colab": {
          "base_uri": "https://localhost:8080/"
        },
        "outputId": "ade0d4cc-c562-4194-86cb-89a8a61389c6"
      },
      "outputs": [
        {
          "output_type": "stream",
          "name": "stdout",
          "text": [
            "\n",
            " Feature 5 - 3gram_union extracted\n"
          ]
        }
      ],
      "source": [
        "# Feature 5 extraction - \"three_gram_union\" - something does not work, I switched it off\n",
        "train_data['3gram_union'] = FeatureExtraction_3gramUnion(train_data['sentence1'],train_data['sentence2'])\n",
        "dev_data['3gram_union'] = FeatureExtraction_3gramUnion(dev_data['sentence1'],dev_data['sentence2'])\n",
        "#d_train['3gram_union'] = FeatureExtraction_3gramUnion(d_train['sentence1'],d_train['sentence2'])\n",
        "test_data['3gram_union'] = FeatureExtraction_3gramUnion(test_data['sentence1'],test_data['sentence2'])\n",
        "print('\\n Feature 5 - 3gram_union extracted')"
      ]
    },
    {
      "cell_type": "code",
      "execution_count": 50,
      "metadata": {
        "id": "XDsPkvQUiez9",
        "colab": {
          "base_uri": "https://localhost:8080/"
        },
        "outputId": "8399c931-1bf8-4c9f-e268-2922a754409b"
      },
      "outputs": [
        {
          "output_type": "stream",
          "name": "stdout",
          "text": [
            "\n",
            " Feature 6 - 2gram_overlap extracted\n"
          ]
        }
      ],
      "source": [
        "# Feature 6 extraction - \"two_gram_overlap\", number of same sequence of two words in sentence1 and sentence2\n",
        "train_data['2gram_overlap'] = FeatureExtraction_2gramOverlap(train_data['sentence1'],train_data['sentence2'])\n",
        "dev_data['2gram_overlap'] = FeatureExtraction_2gramOverlap(dev_data['sentence1'],dev_data['sentence2'])\n",
        "#d_train['2gram_overlap'] = FeatureExtraction_2gramOverlap(d_train['sentence1'],d_train['sentence2'])\n",
        "test_data['2gram_overlap'] = FeatureExtraction_2gramOverlap(test_data['sentence1'],test_data['sentence2'])\n",
        "print('\\n Feature 6 - 2gram_overlap extracted')"
      ]
    },
    {
      "cell_type": "code",
      "execution_count": 51,
      "metadata": {
        "id": "Gypmeo4XkhMc",
        "colab": {
          "base_uri": "https://localhost:8080/"
        },
        "outputId": "212c798c-c541-472e-801d-0676533265f1"
      },
      "outputs": [
        {
          "output_type": "stream",
          "name": "stdout",
          "text": [
            "\n",
            " Feature 7 - 2gram_union extracted\n"
          ]
        }
      ],
      "source": [
        "# Feature 7 extraction - \"two_gram_union\", number of same sequence of two words in sentence1 and sentence2\n",
        "train_data['2gram_union'] = FeatureExtraction_2gramUnion(train_data['sentence1'],train_data['sentence2'])\n",
        "dev_data['2gram_union'] = FeatureExtraction_2gramUnion(dev_data['sentence1'],dev_data['sentence2'])\n",
        "#d_train['2gram_union'] = FeatureExtraction_2gramUnion(d_train['sentence1'],d_train['sentence2'])\n",
        "test_data['2gram_union'] = FeatureExtraction_2gramUnion(test_data['sentence1'],test_data['sentence2'])\n",
        "print('\\n Feature 7 - 2gram_union extracted')"
      ]
    },
    {
      "cell_type": "code",
      "source": [
        "# Feature 8 extraction - \"numbers_overlap\", the number of same numbers in sentence1 and sentence2\n",
        "train_data['num_overlap'] = FeatureExtraction_NumOverlap(train_data['sentence1'],train_data['sentence2'])\n",
        "dev_data['num_overlap'] = FeatureExtraction_NumOverlap(dev_data['sentence1'],dev_data['sentence2'])\n",
        "#d_train['num_overlap'] = FeatureExtraction_NumOverlap(d_train['sentence1'],d_train['sentence2'])\n",
        "test_data['num_overlap'] = FeatureExtraction_NumOverlap(test_data['sentence1'],test_data['sentence2'])\n",
        "print('\\n Feature 8 - num_overlap extracted')"
      ],
      "metadata": {
        "id": "z2Qtaus3RHlo",
        "colab": {
          "base_uri": "https://localhost:8080/"
        },
        "outputId": "eff04b2a-e3f7-4fb5-f526-8fcaad2dbe3e"
      },
      "execution_count": 52,
      "outputs": [
        {
          "output_type": "stream",
          "name": "stdout",
          "text": [
            "\n",
            " Feature 8 - num_overlap extracted\n"
          ]
        }
      ]
    },
    {
      "cell_type": "code",
      "source": [
        "# Feature 9 extraction - \"cap_words_overlap\", the number of same words with first capital letter in sentence1 and sentence2\n",
        "train_data['cap_words_overlap'] = FeatureExtraction_CapitalLetters(train_data['sentence1'],train_data['sentence2'])\n",
        "dev_data['cap_words_overlap'] = FeatureExtraction_CapitalLetters(dev_data['sentence1'],dev_data['sentence2'])\n",
        "#d_train['cap_words_overlap'] = FeatureExtraction_CapitalLetters(d_train['sentence1'],d_train['sentence2'])\n",
        "test_data['cap_words_overlap'] = FeatureExtraction_CapitalLetters(test_data['sentence1'],test_data['sentence2'])\n",
        "print('\\n Feature 9 - cap_words_overlap extracted')"
      ],
      "metadata": {
        "id": "F5jwa9jtR9df",
        "colab": {
          "base_uri": "https://localhost:8080/"
        },
        "outputId": "f202c28e-7d9c-4610-aab7-164bb9520cac"
      },
      "execution_count": 53,
      "outputs": [
        {
          "output_type": "stream",
          "name": "stderr",
          "text": [
            "[nltk_data] Downloading package stopwords to /root/nltk_data...\n",
            "[nltk_data]   Package stopwords is already up-to-date!\n",
            "[nltk_data] Downloading package stopwords to /root/nltk_data...\n",
            "[nltk_data]   Package stopwords is already up-to-date!\n"
          ]
        },
        {
          "output_type": "stream",
          "name": "stdout",
          "text": [
            "\n",
            " Feature 9 - cap_words_overlap extracted\n"
          ]
        },
        {
          "output_type": "stream",
          "name": "stderr",
          "text": [
            "[nltk_data] Downloading package stopwords to /root/nltk_data...\n",
            "[nltk_data]   Package stopwords is already up-to-date!\n"
          ]
        }
      ]
    },
    {
      "cell_type": "code",
      "source": [
        "# Feature 10 extraction - \"cosine_sim\", similarity of two sentences\n",
        "train_data['cosine_sim'] = FeatureExtraction_CosineSim(train_data['sentence1'],train_data['sentence2'])\n",
        "dev_data['cosine_sim'] = FeatureExtraction_CosineSim(dev_data['sentence1'],dev_data['sentence2'])\n",
        "#d_train['cosine_sim'] = FeatureExtraction_CosineSim(d_train['sentence1'],d_train['sentence2'])\n",
        "test_data['cosine_sim'] = FeatureExtraction_CosineSim(test_data['sentence1'],test_data['sentence2'])\n",
        "print('\\n Feature 10 - cosine_sim extracted')"
      ],
      "metadata": {
        "id": "b5XSFXku0KMY",
        "colab": {
          "base_uri": "https://localhost:8080/"
        },
        "outputId": "2799e8ff-7168-4d11-9830-dd077b88d373"
      },
      "execution_count": 54,
      "outputs": [
        {
          "output_type": "stream",
          "name": "stdout",
          "text": [
            "\n",
            " Feature 10 - cosine_sim extracted\n"
          ]
        }
      ]
    },
    {
      "cell_type": "code",
      "source": [
        "# Feature 11 extraction - \"tf-idf\", similarity of two sentences\n",
        "#train_data['tf_idf'] = FeatureExtraction_TFIDF(train_data['sentence1'],train_data['sentence2'])\n",
        "#dev_data['tf_idf'] = FeatureExtraction_TFIDF(dev_data['sentence1'],dev_data['sentence2'])\n",
        "#d_train['tf_idf'] = FeatureExtraction_TFIDF(d_train['sentence1'],d_train['sentence2'])\n",
        "#print('\\n Feature 11 - tf_idf extracted')\n",
        "#print(d_train['tf_idf'])"
      ],
      "metadata": {
        "id": "q5yOQyZKjJm3"
      },
      "execution_count": 55,
      "outputs": []
    },
    {
      "cell_type": "code",
      "execution_count": 56,
      "metadata": {
        "id": "ifYowA4G2LI5",
        "colab": {
          "base_uri": "https://localhost:8080/"
        },
        "outputId": "079a3ae7-5cf0-45d5-fdf5-098ebfc83a8e"
      },
      "outputs": [
        {
          "output_type": "stream",
          "name": "stdout",
          "text": [
            " 10 Vector labels are : 1-word_count_dif, 2-word_ovrlap, 3-word_union, 4-3gram_overlap, 5-3gram_union, 6-2gram_overlap, 7-2gram_union, 8-num_overlap, 9-cap_words_overlap, 10-cosine_sim \n"
          ]
        }
      ],
      "source": [
        "# Vectors\n",
        "print(\" 10 Vector labels are : 1-word_count_dif, 2-word_ovrlap, 3-word_union, 4-3gram_overlap, 5-3gram_union, 6-2gram_overlap, 7-2gram_union, 8-num_overlap, 9-cap_words_overlap, 10-cosine_sim \")\n",
        "#train_data[['sentence1','sentence2','gold_label','word_count_dif','word_overlap','word_union','3gram_overlap','3gram_union','2gram_overlap','2gram_union','num_overlap','cap_words_overlap','cosine_sim']].head()\n",
        "#dev_data[['sentence1','sentence2','gold_label','word_count_dif','word_overlap','word_union','3gram_overlap','3gram_union','2gram_overlap','2gram_union','num_overlap','cap_words_overlap','cosine_sim']].head()\n",
        "#d_train[['sentence1','sentence2','gold_label','word_count_dif','word_overlap','word_union','3gram_overlap','3gram_union','2gram_overlap','2gram_union','num_overlap','cap_words_overlap','cosine_sim']].head()"
      ]
    },
    {
      "cell_type": "markdown",
      "metadata": {
        "id": "z8VRShJxWXAZ"
      },
      "source": [
        "# Data Selection for Training Section"
      ]
    },
    {
      "cell_type": "code",
      "execution_count": 57,
      "metadata": {
        "id": "H2RiLqNWizxb",
        "colab": {
          "base_uri": "https://localhost:8080/"
        },
        "outputId": "feb7ae5b-801f-4faf-cbe7-0185a85d25dd"
      },
      "outputs": [
        {
          "output_type": "stream",
          "name": "stdout",
          "text": [
            "tr_vect shape:  (700, 10) \n",
            "tr_class shape:  (700,)\n",
            "dev_vect shape:  (699, 10) \n",
            "dev_class shape:  (699,)\n",
            "\n",
            " train_data ready for training\n"
          ]
        }
      ],
      "source": [
        "import seaborn as sns\n",
        "import matplotlib.pyplot as plt # plotting \n",
        "\n",
        "#y = train_data.gold_label\n",
        "#X = train_data.drop('gold_label',axis=1)\n",
        "#sns.pairplot(train_data, hue=\"gold_label\",palette=\"bright\")\n",
        "\n",
        "# Training vectors and classes\n",
        "test_vect = test_data[['word_count_dif','word_overlap','word_union','3gram_overlap','3gram_union','2gram_overlap','2gram_union','num_overlap','cap_words_overlap','cosine_sim']].astype(float)\n",
        "\n",
        "# Training vectors and classes\n",
        "tr_vect = train_data[['word_count_dif','word_overlap','word_union','3gram_overlap','3gram_union','2gram_overlap','2gram_union','num_overlap','cap_words_overlap','cosine_sim']].astype(float)\n",
        "#tr_vect = train_data[['word_overlap','word_union','3gram_overlap','3gram_union','2gram_overlap','2gram_union','num_overlap','cap_words_overlap','cosine_sim']].astype(float)\n",
        "#tr_vect = train_data[['word_count_dif','word_union','word_overlap','3gram_overlap','3gram_union','2gram_overlap','2gram_union','num_overlap','cap_words_overlap']].astype(float)\n",
        "#tr_vect = train_data[['word_count_dif','word_overlap','3gram_overlap','2gram_overlap','num_overlap','cap_words_overlap','cosine_sim']].astype(float)\n",
        "#tr_vect = train_data[['word_count_dif']].astype(int)\n",
        "tr_vect = tr_vect[:700]\n",
        "tr_class = train_data['gold_label'].astype(int)\n",
        "tr_class = tr_class[:700]\n",
        "print('tr_vect shape: ',tr_vect.shape,'\\ntr_class shape: ',tr_class.shape )\n",
        "\n",
        "# Test vectors and classes\n",
        "dev_vect = dev_data[['word_count_dif','word_overlap','word_union','3gram_overlap','3gram_union','2gram_overlap','2gram_union','num_overlap','cap_words_overlap','cosine_sim']].astype(float)\n",
        "#dev_vect = dev_data[['word_overlap','word_union','3gram_overlap','3gram_union','2gram_overlap','2gram_union','num_overlap','cap_words_overlap','cosine_sim']].astype(float)\n",
        "#dev_vect = dev_data[['word_count_dif','word_union','word_overlap','3gram_overlap','3gram_union','2gram_overlap','2gram_union','num_overlap','cap_words_overlap']].astype(float)\n",
        "#dev_vect = dev_data[['word_count_dif','word_overlap','3gram_overlap','2gram_overlap','num_overlap','cap_words_overlap','cosine_sim']].astype(float)\n",
        "dev_class = dev_data['gold_label'].astype(int)\n",
        "print('dev_vect shape: ',dev_vect.shape,'\\ndev_class shape: ',dev_class.shape )\n",
        "\n",
        "# Subset of Test vectors and classes for debugging\n",
        "#d_vect = d_train[['word_count_dif','word_overlap','word_union','3gram_overlap','3gram_union','2gram_overlap','2gram_union','num_overlap','cap_words_overlap','cosine_sim']].astype(float)\n",
        "#d_vect = d_train[['word_overlap','word_union','3gram_overlap','3gram_union','2gram_overlap','2gram_union','num_overlap','cap_words_overlap','cosine_sim']].astype(float)\n",
        "#d_vect = d_train[['word_count_dif','word_overlap','3gram_overlap','2gram_overlap','num_overlap','cap_words_overlap','cosine_sim']].astype(float)\n",
        "#d_class = d_train['gold_label'].astype(int)\n",
        "#print('d_vect shape: ',d_vect.shape,'\\nd_class shape: ',d_class.shape )\n",
        "\n",
        "#print(d_vect.head())\n",
        "print('\\n train_data ready for training')\n"
      ]
    },
    {
      "cell_type": "markdown",
      "source": [
        "# SVM Section"
      ],
      "metadata": {
        "id": "1iac1_BtUluY"
      }
    },
    {
      "cell_type": "code",
      "execution_count": 58,
      "metadata": {
        "id": "rV_8IisPileD",
        "colab": {
          "base_uri": "https://localhost:8080/"
        },
        "outputId": "0c5f42cb-598a-443a-c534-a6273d464ba3"
      },
      "outputs": [
        {
          "output_type": "stream",
          "name": "stdout",
          "text": [
            "\n",
            " Prediction Report \n",
            "\n",
            "     instance_id  predicted_label\n",
            "0      test_id_0                1\n",
            "1      test_id_1                1\n",
            "2      test_id_2                0\n",
            "3      test_id_3                0\n",
            "4      test_id_4                1\n",
            "..           ...              ...\n",
            "945  test_id_995                0\n",
            "946  test_id_996                0\n",
            "947  test_id_997                1\n",
            "948  test_id_998                0\n",
            "949  test_id_999                1\n",
            "\n",
            "[950 rows x 2 columns]\n"
          ]
        }
      ],
      "source": [
        "# Training using SVM\n",
        "\n",
        "from sklearn import svm\n",
        "from sklearn.svm import SVC\n",
        "from sklearn.metrics import mean_squared_error, r2_score\n",
        "from sklearn.metrics import classification_report, confusion_matrix\n",
        "\n",
        "# Training\n",
        "svclassifier = SVC(kernel='poly', degree = 8) # best res - acc = 0.65 d = 8 inst 700\n",
        "#svclassifier = SVC(kernel='rbf') #\n",
        "#svclassifier = SVC(kernel='linear') #\n",
        "svclassifier.fit(tr_vect, tr_class) \n",
        "#svclassifier.fit(dev_vect, dev_class) \n",
        "\n",
        "# Prediction\n",
        "y_pred = svclassifier.predict(test_vect)\n",
        "\n",
        "# Report out\n",
        "print('\\n Prediction Report \\n')\n",
        "\n",
        "#print('\\n Confusion matrix: \\n', confusion_matrix(dev_class,y_pred))\n",
        "#print('\\n Classification report: \\n')\n",
        "#print(classification_report(dev_class,y_pred))\n",
        "#print(\"SVM Mean squared error: %.2f\" % mean_squared_error(dev_class, y_pred))\n",
        "#print(\"Coefficient of determination: %.2f\" % r2_score(dev_class, y_pred))\n",
        "\n",
        "prediction = pd.DataFrame()\n",
        "prediction['instance_id'] = test_data['id']\n",
        "prediction['predicted_label'] = y_pred\n",
        "print(prediction)\n",
        "prediction.to_csv('DariiaDragunova_test_result.txt', sep ='\\t', index = None)\n",
        "\n",
        "\n"
      ]
    },
    {
      "cell_type": "code",
      "source": [
        "from sklearn.ensemble import BaggingClassifier\n",
        "\n",
        "svclassifier = SVC(kernel='poly', degree = 8, random_state = 42)\n",
        "model = BaggingClassifier(base_estimator=svclassifier, n_estimators=31, random_state=314)\n",
        "clf = BaggingClassifier(n_estimators = 10, oob_score = True,random_state = 22)\n",
        "clf.fit(tr_vect, tr_class)\n",
        "print(\"train_prediction score: \\n\", clf.score(dev_vect,dev_class))"
      ],
      "metadata": {
        "colab": {
          "base_uri": "https://localhost:8080/"
        },
        "id": "cCO03oOgzXb7",
        "outputId": "409af7ea-0321-41e7-b8eb-dbfeccc7b65c"
      },
      "execution_count": 59,
      "outputs": [
        {
          "output_type": "stream",
          "name": "stdout",
          "text": [
            "train_prediction score: \n",
            " 0.6409155937052933\n"
          ]
        },
        {
          "output_type": "stream",
          "name": "stderr",
          "text": [
            "/usr/local/lib/python3.7/dist-packages/sklearn/ensemble/_bagging.py:707: UserWarning: Some inputs do not have OOB scores. This probably means too few estimators were used to compute any reliable oob estimates.\n",
            "  \"Some inputs do not have OOB scores. \"\n",
            "/usr/local/lib/python3.7/dist-packages/sklearn/ensemble/_bagging.py:712: RuntimeWarning: invalid value encountered in true_divide\n",
            "  oob_decision_function = predictions / predictions.sum(axis=1)[:, np.newaxis]\n"
          ]
        }
      ]
    },
    {
      "cell_type": "code",
      "source": [
        "from sklearn.tree import DecisionTreeClassifier\n",
        "decision_tree_model = DecisionTreeClassifier(criterion=\"entropy\", random_state=0)\n",
        "\n",
        "from sklearn.model_selection import cross_validate\n",
        "def cross_validation(model, _X, _y, _cv=5):\n",
        "  _scoring = ['accuracy', 'precision', 'recall', 'f1']\n",
        "  results = cross_validate(estimator=model, X=_X, y=_y, cv=_cv, scoring=_scoring, return_train_score=True)\n",
        "  return {\"Training Accuracy scores\": results['train_accuracy'],\n",
        "              \"Mean Training Accuracy\": results['train_accuracy'].mean()*100,\n",
        "              \"Training Precision scores\": results['train_precision'],\n",
        "              \"Mean Training Precision\": results['train_precision'].mean(),\n",
        "              \"Training Recall scores\": results['train_recall'],\n",
        "              \"Mean Training Recall\": results['train_recall'].mean(),\n",
        "              \"Training F1 scores\": results['train_f1'],\n",
        "              \"Mean Training F1 Score\": results['train_f1'].mean(),\n",
        "              \"Validation Accuracy scores\": results['test_accuracy'],\n",
        "              \"Mean Validation Accuracy\": results['test_accuracy'].mean()*100,\n",
        "              \"Validation Precision scores\": results['test_precision'],\n",
        "              \"Mean Validation Precision\": results['test_precision'].mean(),\n",
        "              \"Validation Recall scores\": results['test_recall'],\n",
        "              \"Mean Validation Recall\": results['test_recall'].mean(),\n",
        "              \"Validation F1 scores\": results['test_f1'],\n",
        "              \"Mean Validation F1 Score\": results['test_f1'].mean()\n",
        "              }\n",
        "\n",
        "decision_tree_result = cross_validation(decision_tree_model, tr_vect, tr_class, 5)\n",
        "print(decision_tree_result)\n",
        "\n",
        "from sklearn import tree\n",
        "clf = tree.DecisionTreeClassifier()\n",
        "clf = clf.fit(tr_vect, tr_class)\n",
        "tree_predict = clf.predict(dev_vect)\n",
        "\n",
        "print(confusion_matrix(dev_class,tree_predict))\n",
        "print(classification_report(dev_class,tree_predict))"
      ],
      "metadata": {
        "id": "i4mgkdSo9RfX",
        "colab": {
          "base_uri": "https://localhost:8080/"
        },
        "outputId": "c29680fb-9a17-4701-fa7e-44c2d005ff21"
      },
      "execution_count": 60,
      "outputs": [
        {
          "output_type": "stream",
          "name": "stdout",
          "text": [
            "{'Training Accuracy scores': array([1., 1., 1., 1., 1.]), 'Mean Training Accuracy': 100.0, 'Training Precision scores': array([1., 1., 1., 1., 1.]), 'Mean Training Precision': 1.0, 'Training Recall scores': array([1., 1., 1., 1., 1.]), 'Mean Training Recall': 1.0, 'Training F1 scores': array([1., 1., 1., 1., 1.]), 'Mean Training F1 Score': 1.0, 'Validation Accuracy scores': array([0.77857143, 0.70714286, 0.75714286, 0.72142857, 0.74285714]), 'Mean Validation Accuracy': 74.14285714285714, 'Validation Precision scores': array([0.85576923, 0.83333333, 0.82407407, 0.79279279, 0.79824561]), 'Mean Validation Precision': 0.8208430090009038, 'Validation Recall scores': array([0.84761905, 0.76190476, 0.85576923, 0.84615385, 0.875     ]), 'Mean Validation Recall': 0.8372893772893774, 'Validation F1 scores': array([0.85167464, 0.7960199 , 0.83962264, 0.81860465, 0.83486239]), 'Mean Validation F1 Score': 0.8281568439278327}\n",
            "[[164 184]\n",
            " [ 83 268]]\n",
            "              precision    recall  f1-score   support\n",
            "\n",
            "           0       0.66      0.47      0.55       348\n",
            "           1       0.59      0.76      0.67       351\n",
            "\n",
            "    accuracy                           0.62       699\n",
            "   macro avg       0.63      0.62      0.61       699\n",
            "weighted avg       0.63      0.62      0.61       699\n",
            "\n"
          ]
        }
      ]
    },
    {
      "cell_type": "markdown",
      "source": [
        "# Linear Regression Section"
      ],
      "metadata": {
        "id": "rolHb96_UfBZ"
      }
    },
    {
      "cell_type": "code",
      "execution_count": 61,
      "metadata": {
        "id": "l-hgH8xvAYPj",
        "colab": {
          "base_uri": "https://localhost:8080/"
        },
        "outputId": "1c1cdee7-497c-4204-868d-9e4a127bdd55"
      },
      "outputs": [
        {
          "output_type": "stream",
          "name": "stdout",
          "text": [
            "train_prediction score: \n",
            " 0.26501033835568566\n",
            "bias is 2.7868301433198024\n",
            "Coefficients: \n",
            " [-0.687237    0.33469996  0.28071232 -1.06532391 -3.45336083  0.37768987\n",
            " -0.37768987 -0.00863953 -0.06515282  0.22620489]\n",
            "Mean squared error: 0.18\n",
            "Coefficient of determination: 0.27\n",
            "prediction for training set:\n",
            "MAE is: 0.3754260717096463\n",
            "MSE is: 0.18374403079512674\n",
            "RMSE is: 0.4286537423085523\n"
          ]
        }
      ],
      "source": [
        "# Linear Regression\n",
        "# https://scikit-learn.org/stable/auto_examples/cross_decomposition/plot_pcr_vs_pls.html#sphx-glr-auto-examples-cross-decomposition-plot-pcr-vs-pls-py\n",
        "# reg = LinearRegression().fit(X, y); regr.score(X, y)\n",
        "# regr = LinearRegression(); #regr = LinearRegression().fit(tr_vect, tr_class)\n",
        "# from sklearn.linear_model import LinearRegression\n",
        "\n",
        "from sklearn import datasets, linear_model\n",
        "from sklearn.metrics import mean_squared_error, r2_score\n",
        "from sklearn.metrics import accuracy_score\n",
        "import matplotlib.pyplot as plt # plotting\n",
        "\n",
        "#Normalize data\n",
        "from sklearn.preprocessing import StandardScaler\n",
        "normalizer = StandardScaler()\n",
        "tr_vect = normalizer.fit_transform(tr_vect)\n",
        "\n",
        "regr = linear_model.LinearRegression()\n",
        "regr.fit(dev_vect, dev_class)\n",
        "print(\"train_prediction score: \\n\", regr.score(dev_vect,dev_class))\n",
        "print(\"bias is \"+ str(regr.intercept_))\n",
        "\n",
        "#dev_data test\n",
        "y_pred = regr.predict(dev_vect)\n",
        "#print(dev_class, dev_prediction)\n",
        "\n",
        "# The coefficients\n",
        "print(\"Coefficients: \\n\", regr.coef_)\n",
        "# The mean squared error\n",
        "print(\"Mean squared error: %.2f\" % mean_squared_error(dev_class, y_pred))\n",
        "# The coefficient of determination: 1 is perfect prediction\n",
        "print(\"Coefficient of determination: %.2f\" % r2_score(dev_class, y_pred))\n",
        "\n",
        "import numpy as np\n",
        "from sklearn.metrics import mean_absolute_error,mean_squared_error\n",
        "mae = mean_absolute_error(dev_class, y_pred)\n",
        "mse = mean_squared_error(dev_class, y_pred)\n",
        "rmse = np.sqrt(mse)\n",
        "\n",
        "print('prediction for training set:')\n",
        "print('MAE is: {}'.format(mae))\n",
        "print('MSE is: {}'.format(mse))\n",
        "print('RMSE is: {}'.format(rmse))\n",
        "\n"
      ]
    },
    {
      "cell_type": "code",
      "source": [
        "# Logistic Regression\n",
        "from sklearn.linear_model import LogisticRegression\n",
        "\n",
        "clf = LogisticRegression(solver='lbfgs')\n",
        "clf.fit(tr_vect, tr_class)\n",
        "\n",
        "# evaluate the model on the testing set\n",
        "y_test_pred = clf.predict(dev_vect)\n",
        "\n",
        "print(\"train_prediction score: \\n\", clf.score(dev_vect,dev_class))\n",
        "# The coefficients\n",
        "print(\"Coefficients: \\n\", regr.coef_)\n",
        "# The mean squared error\n",
        "print(\"Mean squared error: %.2f\" % mean_squared_error(dev_class, y_test_pred))\n",
        "# The coefficient of determination: 1 is perfect prediction\n",
        "print(\"Coefficient of determination: %.2f\" % r2_score(dev_class, y_test_pred))\n"
      ],
      "metadata": {
        "colab": {
          "base_uri": "https://localhost:8080/"
        },
        "id": "4Xnew6N940n6",
        "outputId": "2bf1ba28-60c0-4821-dc33-241d3c14d669"
      },
      "execution_count": 62,
      "outputs": [
        {
          "output_type": "stream",
          "name": "stdout",
          "text": [
            "train_prediction score: \n",
            " 0.5021459227467812\n",
            "Coefficients: \n",
            " [-0.687237    0.33469996  0.28071232 -1.06532391 -3.45336083  0.37768987\n",
            " -0.37768987 -0.00863953 -0.06515282  0.22620489]\n",
            "Mean squared error: 0.50\n",
            "Coefficient of determination: -0.99\n"
          ]
        },
        {
          "output_type": "stream",
          "name": "stderr",
          "text": [
            "/usr/local/lib/python3.7/dist-packages/sklearn/base.py:444: UserWarning: X has feature names, but LogisticRegression was fitted without feature names\n",
            "  f\"X has feature names, but {self.__class__.__name__} was fitted without\"\n",
            "/usr/local/lib/python3.7/dist-packages/sklearn/base.py:444: UserWarning: X has feature names, but LogisticRegression was fitted without feature names\n",
            "  f\"X has feature names, but {self.__class__.__name__} was fitted without\"\n"
          ]
        }
      ]
    },
    {
      "cell_type": "code",
      "source": [
        "# evaluate bagging algorithm for classification\n",
        "from sklearn.ensemble import BaggingClassifier\n",
        "estimator_range = [2,4,6,8,10,12,14,16]\n",
        "models = []\n",
        "scores = []\n",
        "for n_estimators in estimator_range:\n",
        "    # Create bagging classifier\n",
        "    clf = BaggingClassifier(n_estimators = n_estimators, random_state = 22)\n",
        "\n",
        "    # Fit the model\n",
        "    clf.fit(tr_vect, tr_class)\n",
        "\n",
        "    # Append the model and score to their respective list\n",
        "    models.append(clf)\n",
        "    scores.append(accuracy_score(y_true = dev_class, y_pred = clf.predict(dev_vect)))\n",
        "\n",
        "import matplotlib.pyplot as plt\n",
        "\n",
        "# Generate the plot of scores against number of estimators\n",
        "plt.figure(figsize=(9,6))\n",
        "plt.plot(estimator_range, scores)\n",
        "\n",
        "# Adjust labels and font (to make visable)\n",
        "plt.xlabel(\"n_estimators\", fontsize = 18)\n",
        "plt.ylabel(\"score\", fontsize = 18)\n",
        "plt.tick_params(labelsize = 16)\n",
        "\n",
        "# Visualize plot\n",
        "plt.show()\n",
        "\n",
        "#svm = LinearSVC(random_state=42)\n",
        "#model = BaggingClassifier(base_estimator=svm, n_estimators=31, random_state=314)\n",
        "#clf = BaggingClassifier(n_estimators = 8, oob_score = True,random_state = 22)\n",
        "#clf.fit(tr_vect, tr_class)\n",
        "#print(\"train_prediction score: \\n\", clf.score(dev_vect,dev_class))\n"
      ],
      "metadata": {
        "colab": {
          "base_uri": "https://localhost:8080/",
          "height": 707
        },
        "id": "qin2wlQQvho8",
        "outputId": "91f66460-22f0-4b20-8628-b9b8f5e0b880"
      },
      "execution_count": 64,
      "outputs": [
        {
          "output_type": "stream",
          "name": "stderr",
          "text": [
            "/usr/local/lib/python3.7/dist-packages/sklearn/base.py:444: UserWarning: X has feature names, but BaggingClassifier was fitted without feature names\n",
            "  f\"X has feature names, but {self.__class__.__name__} was fitted without\"\n",
            "/usr/local/lib/python3.7/dist-packages/sklearn/base.py:444: UserWarning: X has feature names, but BaggingClassifier was fitted without feature names\n",
            "  f\"X has feature names, but {self.__class__.__name__} was fitted without\"\n",
            "/usr/local/lib/python3.7/dist-packages/sklearn/base.py:444: UserWarning: X has feature names, but BaggingClassifier was fitted without feature names\n",
            "  f\"X has feature names, but {self.__class__.__name__} was fitted without\"\n",
            "/usr/local/lib/python3.7/dist-packages/sklearn/base.py:444: UserWarning: X has feature names, but BaggingClassifier was fitted without feature names\n",
            "  f\"X has feature names, but {self.__class__.__name__} was fitted without\"\n",
            "/usr/local/lib/python3.7/dist-packages/sklearn/base.py:444: UserWarning: X has feature names, but BaggingClassifier was fitted without feature names\n",
            "  f\"X has feature names, but {self.__class__.__name__} was fitted without\"\n",
            "/usr/local/lib/python3.7/dist-packages/sklearn/base.py:444: UserWarning: X has feature names, but BaggingClassifier was fitted without feature names\n",
            "  f\"X has feature names, but {self.__class__.__name__} was fitted without\"\n",
            "/usr/local/lib/python3.7/dist-packages/sklearn/base.py:444: UserWarning: X has feature names, but BaggingClassifier was fitted without feature names\n",
            "  f\"X has feature names, but {self.__class__.__name__} was fitted without\"\n",
            "/usr/local/lib/python3.7/dist-packages/sklearn/base.py:444: UserWarning: X has feature names, but BaggingClassifier was fitted without feature names\n",
            "  f\"X has feature names, but {self.__class__.__name__} was fitted without\"\n"
          ]
        },
        {
          "output_type": "display_data",
          "data": {
            "text/plain": [
              "<Figure size 648x432 with 1 Axes>"
            ],
            "image/png": "[encoded data removed]"
          },
          "metadata": {
            "needs_background": "light"
          }
        }
      ]
    }
  ],
  "metadata": {
    "colab": {
      "collapsed_sections": [
        "lxtNes4y72qU",
        "EViscUIeohKS",
        "bsNpvZxyTYaJ",
        "n3i6GJzew6Fm",
        "z8VRShJxWXAZ",
        "1iac1_BtUluY"
      ],
      "provenance": []
    },
    "kernelspec": {
      "display_name": "Python 3",
      "name": "python3"
    },
    "language_info": {
      "name": "python"
    }
  },
  "nbformat": 4,
  "nbformat_minor": 0
}